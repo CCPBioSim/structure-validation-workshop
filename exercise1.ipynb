{
 "cells": [
  {
   "cell_type": "markdown",
   "metadata": {},
   "source": [
    "# Structure Validation for Biomolecular Simulation\n",
    "# Exercise 1a"
   ]
  },
  {
   "cell_type": "markdown",
   "metadata": {},
   "source": [
    "*Created by [Martyn Winn](mailto:martyn.winn@stfc.ac.uk) (UKRI STFC), September 2021.*"
   ]
  },
  {
   "cell_type": "markdown",
   "metadata": {},
   "source": [
    "This course aims to provide useful information on selecting and assessing a starting model for a biomolecular simulation. The Protein Data Bank is the usual source of initial structures, but often provides a choice of structures for a given macromolecule. How do you select the best structure? How do you assess the quality of structures and avoid propagating errors into your simulation?"
   ]
  },
  {
   "cell_type": "markdown",
   "metadata": {},
   "source": [
    "## Finding starting structures"
   ]
  },
  {
   "cell_type": "markdown",
   "metadata": {},
   "source": [
    "Experimental structures can be downloaded from 3 sites of the wwPDB:\n",
    "\n",
    "  1. [PDBe](https://pdbe.org): the European site at the EBI (pdbe.org)\n",
    "  2. [RCSB](https://rcsb.org): the US site (rcsb.org)\n",
    "  3. [PDBj](https://pdbj.org): the Japan site (pdbj.org)\n",
    "\n",
    "The sites contain the same structures, but present them in different ways. We are going to focus on the PDBe, and other services provided by EMBL-EBI. In this example, we will start from the PDBe Knowledge Base."
   ]
  },
  {
   "cell_type": "markdown",
   "metadata": {},
   "source": [
    "Open the homepage at [PDBe-KB](https://www.ebi.ac.uk/pdbe/pdbe-kb). In the search bar in the top right, enter \"erbb4\". This should give you one hit under \"UniProt mapping\". Select this to take you to the entry page for UniProt Q15303. This page collates many different data sources for the protein of interest. Here we are interested in the structural data.   \n",
    "![PDBe-KB structures](pdbekb_structures.png)"
   ]
  },
  {
   "cell_type": "markdown",
   "metadata": {},
   "source": [
    "Click on the Structures icon to take you to the list of PDB entries. Have a closer look, and pay attention to the tooltips.   \n",
    "1. Which experimental techniques have been used for the different structures?\n",
    "2. The ectodomain covers residues 1 - 651 (including the signal peptide). Looking just at the available structures of the ectodomain (you can hide the others using the x):\n",
    "    - Which has the highest resolution?\n",
    "    - Which structures are complexes?\n",
    "    - What residue range does each structure cover?\n",
    "    - Do any of the structures contain mutations?"
   ]
  },
  {
   "cell_type": "markdown",
   "metadata": {},
   "source": [
    "Return to the top of the page and click on \"View cluster structures\" underneath the Structures icon. The cluster viewer should open on the ectodomain (Segment 1), which is what we are interested in today. The structure is flexible and adopts several conformations. Use the \"eye\" buttons to toggle structures on and off."
   ]
  },
  {
   "cell_type": "markdown",
   "metadata": {},
   "source": [
    "1. What is the main difference between 3u2p and 2ahx?\n",
    "2. Chains A and B of 2ahx have been placed in different clusters. Why are they structurally different? Which chain is more complete?\n",
    "3. Compare 2ahx chain A with 3u7u chain C. How are they different? The reason for the difference is not obvious in this view, but there are clues on the main page."
   ]
  },
  {
   "cell_type": "markdown",
   "metadata": {},
   "source": [
    "# Exercise 1b"
   ]
  },
  {
   "cell_type": "markdown",
   "metadata": {},
   "source": [
    "Let us now look more closely at some of these structures. PDBe-KB doesn't give detailed quality information, so we need to go to the entry pages. Go back to the list of PDB entries and click on 2ahx (the highest resolution structure of the ectodomain)."
   ]
  },
  {
   "cell_type": "markdown",
   "metadata": {},
   "source": [
    "First impressions: How good is this structure? Look at the Experiments & Validation panel, and the PDB-REDO panel."
   ]
  },
  {
   "cell_type": "markdown",
   "metadata": {},
   "source": [
    "Open the Validation Report for this entry (Downloads -> Full report (PDF)). In particular, have a look at the residue plots in section 3. The grey bars show the missing loops in chain A. Orange bars show that a residue is an outlier for 2 geometric criteria. By searching through the later sections, can you locate the 2 problems for residue A169Thr ?\n",
    "     \n",
    "![Validation Report](errb4_validation_report.png)"
   ]
  },
  {
   "cell_type": "markdown",
   "metadata": {},
   "source": [
    "The red dots indicate poor fit to density. In fact, the density is not as good as you might expect at this resolution. Nevertheless, PDB-REDO is able to improve Rfree by around 3 percent (from a reported 26.5 to 23.8), and improve the fit to density."
   ]
  },
  {
   "cell_type": "markdown",
   "metadata": {},
   "source": [
    "Examine the Validation Report for 3u2p. How does this compare in terms of geometry and fit to data?"
   ]
  },
  {
   "cell_type": "markdown",
   "metadata": {},
   "source": [
    "3u7u is a lower resolution structure (3.03A) but has better fit to data (Rfree of 22.7). Examine the validation report. What percent of residues in the 6 copies of ErbB4 (chains A to F) have a poor fit to data? How does this compare to 2ahx? "
   ]
  },
  {
   "cell_type": "markdown",
   "metadata": {},
   "source": [
    "Despite the lower resolution, 3u7u is generally a better structure. However, as discussed in the previous exercise, 3u7u adopts an open conformation because of the binding of its cognate ligand, and this may or may not be what you want."
   ]
  },
  {
   "cell_type": "markdown",
   "metadata": {},
   "source": [
    "# Addendum: programmatic access to the PDB"
   ]
  },
  {
   "cell_type": "markdown",
   "metadata": {},
   "source": [
    "The EBI have a [REST](https://www.ebi.ac.uk/pdbe/pdbe-rest-api) interface which allows programmatic access to PDB structures. The following gets a summary of a particular entry."
   ]
  },
  {
   "cell_type": "code",
   "execution_count": null,
   "metadata": {},
   "outputs": [],
   "source": [
    "import requests\n",
    "\n",
    "pdb_id = '2ahx'\n",
    "\n",
    "# GET call for pdb summary\n",
    "api_url = \"https://www.ebi.ac.uk/pdbe/api/pdb/entry/summary/\"+pdb_id\n",
    "response = requests.get(api_url)\n",
    "print(response.json())\n"
   ]
  },
  {
   "cell_type": "code",
   "execution_count": null,
   "metadata": {},
   "outputs": [],
   "source": [
    "# GET call for specific factoid about an entry\n",
    "api_url = \"https://www.ebi.ac.uk/pdbe/api/pdb/entry/polymer_coverage/\"+pdb_id\n",
    "response = requests.get(api_url)\n",
    "print(response.json())"
   ]
  },
  {
   "cell_type": "code",
   "execution_count": null,
   "metadata": {},
   "outputs": [],
   "source": []
  }
 ],
 "metadata": {
  "kernelspec": {
   "display_name": "Python 3 (ipykernel)",
   "language": "python",
   "name": "python3"
  },
  "language_info": {
   "codemirror_mode": {
    "name": "ipython",
    "version": 3
   },
   "file_extension": ".py",
   "mimetype": "text/x-python",
   "name": "python",
   "nbconvert_exporter": "python",
   "pygments_lexer": "ipython3",
   "version": "3.8.10"
  }
 },
 "nbformat": 4,
 "nbformat_minor": 2
}
