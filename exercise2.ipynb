{
 "cells": [
  {
   "cell_type": "markdown",
   "metadata": {},
   "source": [
    "# Structure Validation for Biomolecular Simulation\n",
    "# Exercise 2"
   ]
  },
  {
   "cell_type": "markdown",
   "metadata": {},
   "source": [
    "*Created by [Martyn Winn](mailto:martyn.winn@stfc.ac.uk) (UKRI STFC), September 2021.*"
   ]
  },
  {
   "cell_type": "markdown",
   "metadata": {},
   "source": [
    "In this exercise, we will look at the experimental data in the form of 3D maps (electron density in the case of crystallography and electrostatic potential in the case of cryoEM). Comparing the atomic model with the map allows you to see what the experimental evidence is for a particular conformation."
   ]
  },
  {
   "cell_type": "markdown",
   "metadata": {},
   "source": [
    "There are several tools for exploring a map, but here we will focus on Coot which comes with many useful functions for analysis, validation and building. It is best if you install Coot on your own machine ([Coot website](https://www2.mrc-lmb.cam.ac.uk/personal/pemsley/coot/)), and use it to follow the instructions below. If this is not possible, then we have made an instance of Uglymol available. This is a Javascript molecular graphics viewer which aims to have the look-and-feel of Coot, but has more limited functionality (type H to see on-screen help).\n"
   ]
  },
  {
   "cell_type": "markdown",
   "metadata": {},
   "source": [
    "We can only touch on the basics of Coot here. There is a useful [introductory tutorial](https://www2.mrc-lmb.cam.ac.uk/personal/pemsley/coot/web/tutorial/tutorial.pdf) which is a few years old, but covers the basics well."
   ]
  },
  {
   "cell_type": "markdown",
   "metadata": {},
   "source": [
    "## Example crystallographic map"
   ]
  },
  {
   "cell_type": "markdown",
   "metadata": {},
   "source": [
    "As an example, let’s look at a protein-DNA complex, deposited with ID [1t38](https://www.ebi.ac.uk/pdbe/entry/pdb/1T38). This has been solved by crystallography (MX) to a resolution of 3.2Å. \n",
    "If you have Coot installed, launch it and select File → Fetch PDB & Map using EDS … → 1t38   This will download the structure and the experimental map, and load them into Coot. It will also alert you to nomenclature problems (just click Cancel).\n",
    "Otherwise, follow this [link](https://ccpbiosim.duckdns.org/uglymol/1t38/) to view in Uglymol."
   ]
  },
  {
   "cell_type": "markdown",
   "metadata": {},
   "source": [
    "Zoom in (right mouse button and drag). The electron density is shown in blue, and the difference density in green (positive - unmodelled density) and red (negative - unsupported model). An estimate of the electron density exists at all points in space, and the visible map represents a particular contour level. Use the scroll wheel to adjust the contour level. The current contour level will appear at the top of viewing screen in absolute units and as a sigma level.  \n",
    "![Coot density](coot_dens.png)"
   ]
  },
  {
   "cell_type": "markdown",
   "metadata": {},
   "source": [
    "Examine the region around His146 in chain A. To do this in Coot, select Draw → Sequence View, and click on the residue in the sequence panel. To do this in Uglymol, use the middle mouse to select a residue and then (Shift+)space to move (backwards)forwards along the sequence. The density is ok, although low resolution (remember this is a 3.2Å structure). How do we know whether the His should be flipped?"
   ]
  },
  {
   "cell_type": "markdown",
   "metadata": {},
   "source": [
    "Examine the region around Pro56 to Met60 in chain A (again, use the sequence panel). The density is poor with missing density for many side chains (dependent on the chosen contour level), and there is a neighbouring chain break between residues 35 and 56 which will need to be built prior to running a simulation."
   ]
  },
  {
   "cell_type": "markdown",
   "metadata": {},
   "source": [
    "Examine the density at Gly23 or Gly27. At a normal contour level, there are breaks in the density here. Is the protein traced correctly?"
   ]
  },
  {
   "cell_type": "markdown",
   "metadata": {},
   "source": [
    "Now, examine the density around the DNA duplex. Note that the ends of the duplex stack against symmetry mates - this may be visible if symmetry is activated. Look at the flipped-out base (chain B, residue 7). How good is the density for this and interacting residues? Look also at residue Arg128 which intercalates between nucleotides B6 and B8 to replace the flipped out base."
   ]
  },
  {
   "cell_type": "markdown",
   "metadata": {},
   "source": [
    "Finally, look at residue Leu19. What indicates that there might be a possible problem with the modelling here?"
   ]
  },
  {
   "cell_type": "markdown",
   "metadata": {},
   "source": [
    "In Coot, you can also select File → Fetch PDB & Map using PDB-REDO … → 1t38   This will download a re-refined model from the PDB-REDO server together with an improved electron density map (remember that the phases in crystallography are derived from the model). As an example, examine the refined density for Arg128. PDB-REDO improves the Rfree from 30.7 to 26.3, although the automated procedure doesn't solve all problems."
   ]
  },
  {
   "cell_type": "markdown",
   "metadata": {},
   "source": [
    "## Example cryoEM map"
   ]
  },
  {
   "cell_type": "markdown",
   "metadata": {},
   "source": [
    "As another example, let's look at the nsp12-nsp7-nsp8 RNA polymerase complex from SARS-CoV-2 determined by cryoEM to an overall resolution of 2.5Å. Load the supplied [coordinate]( https://ccpbiosim.duckdns.org/uglymol/pdb_00007bv2_xyz_v1-0.pdb) file (File → Open Coordinates ...) into Coot, followed by the [map]( https://ccpbiosim.duckdns.org/uglymol/emd_30210.map) file (File → Open Map ...). Note that we are using the original coordinate file deposited to the PDB. This has some problems, which we will look at, but has since been updated in the PDB. If you do not have Coot installed, then follow this [link](https://ccpbiosim.duckdns.org/uglymol/7bv2/) to view in Uglymol."
   ]
  },
  {
   "cell_type": "markdown",
   "metadata": {},
   "source": [
    "You will need to play with the contour level (scroll wheel). The recommended contour level is 0.058, but you will find that you need different contour levels in different regions of the complex, due to variation in the local resolution."
   ]
  },
  {
   "cell_type": "markdown",
   "metadata": {},
   "source": [
    "Zoom out to get an overview of the complex (right mouse button and drag). You should see that at the recommended contour level, the edges of the complex don't lie within the map. This is reflected in the atom inclusion validation metric shown on the [EMDB entry page](https://www.ebi.ac.uk/emdb/EMD-30210?tab=validation#fitmodel). Lowering the contour level shows that there is *some* experimental support here."
   ]
  },
  {
   "cell_type": "markdown",
   "metadata": {},
   "source": [
    "Use Draw → Sequence View in Coot to navigate to residue Thr912 of chain A. Look also at neighbouring Asn911. In Uglymol, switch to \"trace\" view by typing \"S\" and look for the disconnected helix near to the RNA duplex.   \n",
    "![RNApol in Uglymol](RNApol_in_uglymol.png)"
   ]
  },
  {
   "cell_type": "markdown",
   "metadata": {},
   "source": [
    "Do these residues fit the density well? This region of the model is disconnected from the remainder of the model - can you locate where the missing loop would lie? In fact, the wrong part of the sequence has been docked to this part of the map. Where Thr912 has been placed should be Tyr921, and where Asn911 has been placed should be Phe920."
   ]
  },
  {
   "cell_type": "markdown",
   "metadata": {},
   "source": [
    "Use Draw → Sequence View in Coot to navigate to residue Pro505 of chain A. Find the preceding peptide bond. Is this trans or cis?  In Coot, you can try Calculate → Other Modelling Tools → Cis <-> Trans"
   ]
  },
  {
   "cell_type": "markdown",
   "metadata": {},
   "source": [
    "The region around Thr850 of chain A has been mis-traced. Can you see where the main chain should go?  In Coot, you can use the Display Manager to focus on the backbone trace."
   ]
  },
  {
   "cell_type": "markdown",
   "metadata": {},
   "source": [
    "Finally, there are issues around the Remdesivir binding site (the drug is assigned to chain P). The nearby Mg2+ ions and the pyrophosphate are poorly supported by the density and contacts. Since this is important for drug design, there has been much discussion about the modelling here, which we don't have time to go into here."
   ]
  },
  {
   "cell_type": "markdown",
   "metadata": {},
   "source": [
    "For those with Coot, look at the various analyses under the Validate menu. Hints:\n",
    "1. \"Average Temp. fact. analysis\" and \"Density fit analysis\" both highlight the mistraced region around Thr850 that we just looked at. They also highlight two neighbouring loops in a different region of chain A.\n",
    "2. \"Geometry analysis\" reveals short CA-N bonds at residues A645Cys and A758Leu.   \n",
    "    \n",
    "Note that none of these tools highlight the error in the C-terminal sequence docking or the trans/cis nature of A505. "
   ]
  },
  {
   "cell_type": "markdown",
   "metadata": {},
   "source": [
    "When you have finished analysing this structure, download the revised version which is now the default in the PDB. In Coot, load the latest version of the model (7bv2) with File → Get PDB with Accession Code ... How does this compare with the original coordinate file that we have been looking at? If you are using Uglymol, then use this [link](https://ccpbiosim.duckdns.org/uglymol/upload/) and enter 7bv2 into the query box."
   ]
  },
  {
   "cell_type": "code",
   "execution_count": null,
   "metadata": {},
   "outputs": [],
   "source": []
  }
 ],
 "metadata": {
  "kernelspec": {
   "display_name": "Python 3 (ipykernel)",
   "language": "python",
   "name": "python3"
  },
  "language_info": {
   "codemirror_mode": {
    "name": "ipython",
    "version": 3
   },
   "file_extension": ".py",
   "mimetype": "text/x-python",
   "name": "python",
   "nbconvert_exporter": "python",
   "pygments_lexer": "ipython3",
   "version": "3.8.10"
  }
 },
 "nbformat": 4,
 "nbformat_minor": 2
}
